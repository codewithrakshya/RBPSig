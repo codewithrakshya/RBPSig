{
 "cells": [
  {
   "cell_type": "code",
   "execution_count": 1,
   "id": "d919e989",
   "metadata": {},
   "outputs": [],
   "source": [
    "import subprocess\n",
    "from datetime import datetime"
   ]
  },
  {
   "cell_type": "code",
   "execution_count": 2,
   "id": "df332407",
   "metadata": {},
   "outputs": [],
   "source": [
    "today_date = datetime.now().strftime(\"%m.%d.%Y\")"
   ]
  },
  {
   "cell_type": "code",
   "execution_count": 5,
   "id": "90b63325",
   "metadata": {},
   "outputs": [
    {
     "name": "stdout",
     "output_type": "stream",
     "text": [
      "Currently downloading: SRR4421417\n",
      "\n",
      "2024-04-24T00:45:24 prefetch.2.11.3: Current preference is set to retrieve SRA Normalized Format files with full base quality scores.\n",
      "2024-04-24T00:45:24 prefetch.2.11.3: 1) Downloading 'SRR4421417'...\n",
      "2024-04-24T00:45:24 prefetch.2.11.3: SRA Normalized Format file is being retrieved, if this is different from your preference, it may be due to current file availability.\n",
      "2024-04-24T00:45:24 prefetch.2.11.3:  Downloading via HTTPS...\n",
      "2024-04-24T01:00:45 prefetch.2.11.3:  HTTPS download succeed\n",
      "2024-04-24T01:01:57 prefetch.2.11.3:  'SRR4421417' is valid\n",
      "2024-04-24T01:01:57 prefetch.2.11.3: 1) 'SRR4421417' was downloaded successfully\n",
      "Download completed for: SRR4421417\n",
      "Currently downloading: SRR4421418\n",
      "\n",
      "2024-04-24T01:01:58 prefetch.2.11.3: Current preference is set to retrieve SRA Normalized Format files with full base quality scores.\n",
      "2024-04-24T01:01:58 prefetch.2.11.3: 1) Downloading 'SRR4421418'...\n",
      "2024-04-24T01:01:58 prefetch.2.11.3: SRA Normalized Format file is being retrieved, if this is different from your preference, it may be due to current file availability.\n",
      "2024-04-24T01:01:58 prefetch.2.11.3:  Downloading via HTTPS...\n",
      "2024-04-24T01:06:24 prefetch.2.11.3:  HTTPS download succeed\n",
      "2024-04-24T01:07:04 prefetch.2.11.3:  'SRR4421418' is valid\n",
      "2024-04-24T01:07:04 prefetch.2.11.3: 1) 'SRR4421418' was downloaded successfully\n",
      "Download completed for: SRR4421418\n",
      "Currently downloading: SRR4422332\n",
      "\n",
      "2024-04-24T01:07:05 prefetch.2.11.3: Current preference is set to retrieve SRA Normalized Format files with full base quality scores.\n",
      "2024-04-24T01:07:06 prefetch.2.11.3: 1) Downloading 'SRR4422332'...\n",
      "2024-04-24T01:07:06 prefetch.2.11.3: SRA Normalized Format file is being retrieved, if this is different from your preference, it may be due to current file availability.\n",
      "2024-04-24T01:07:06 prefetch.2.11.3:  Downloading via HTTPS...\n",
      "2024-04-24T01:15:53 prefetch.2.11.3:  HTTPS download succeed\n",
      "2024-04-24T01:17:22 prefetch.2.11.3:  'SRR4422332' is valid\n",
      "2024-04-24T01:17:22 prefetch.2.11.3: 1) 'SRR4422332' was downloaded successfully\n",
      "Download completed for: SRR4422332\n",
      "Currently downloading: SRR4422333\n",
      "\n",
      "2024-04-24T01:17:24 prefetch.2.11.3: Current preference is set to retrieve SRA Normalized Format files with full base quality scores.\n",
      "2024-04-24T01:17:24 prefetch.2.11.3: 1) Downloading 'SRR4422333'...\n",
      "2024-04-24T01:17:24 prefetch.2.11.3: SRA Normalized Format file is being retrieved, if this is different from your preference, it may be due to current file availability.\n",
      "2024-04-24T01:17:24 prefetch.2.11.3:  Downloading via HTTPS...\n",
      "2024-04-24T01:29:17 prefetch.2.11.3:  HTTPS download succeed\n",
      "2024-04-24T01:31:28 prefetch.2.11.3:  'SRR4422333' is valid\n",
      "2024-04-24T01:31:28 prefetch.2.11.3: 1) 'SRR4422333' was downloaded successfully\n",
      "Download completed for: SRR4422333\n",
      "Generating FASTQ for: SRR4421417\n",
      "Processing paired-end reads. Output will be split into separate files for each read.\n",
      "Read 52532470 spots for /private/groups/brookslab/scratch/rausharm/sra_acc.04.23.24_hnrnpa2b1/SRR4421417/SRR4421417.sra\n",
      "Written 52532470 spots for /private/groups/brookslab/scratch/rausharm/sra_acc.04.23.24_hnrnpa2b1/SRR4421417/SRR4421417.sra\n",
      "FASTQ generation completed for: SRR4421417\n",
      "Generating FASTQ for: SRR4421418\n",
      "Processing paired-end reads. Output will be split into separate files for each read.\n",
      "Read 38370991 spots for /private/groups/brookslab/scratch/rausharm/sra_acc.04.23.24_hnrnpa2b1/SRR4421418/SRR4421418.sra\n",
      "Written 38370991 spots for /private/groups/brookslab/scratch/rausharm/sra_acc.04.23.24_hnrnpa2b1/SRR4421418/SRR4421418.sra\n",
      "FASTQ generation completed for: SRR4421418\n",
      "Generating FASTQ for: SRR4422332\n",
      "Processing paired-end reads. Output will be split into separate files for each read.\n",
      "Read 43172757 spots for /private/groups/brookslab/scratch/rausharm/sra_acc.04.23.24_hnrnpa2b1/SRR4422332/SRR4422332.sra\n",
      "Written 43172757 spots for /private/groups/brookslab/scratch/rausharm/sra_acc.04.23.24_hnrnpa2b1/SRR4422332/SRR4422332.sra\n",
      "FASTQ generation completed for: SRR4422332\n",
      "Generating FASTQ for: SRR4422333\n",
      "Processing paired-end reads. Output will be split into separate files for each read.\n",
      "Read 46093329 spots for /private/groups/brookslab/scratch/rausharm/sra_acc.04.23.24_hnrnpa2b1/SRR4422333/SRR4422333.sra\n",
      "Written 46093329 spots for /private/groups/brookslab/scratch/rausharm/sra_acc.04.23.24_hnrnpa2b1/SRR4422333/SRR4422333.sra\n",
      "FASTQ generation completed for: SRR4422333\n",
      "All processes completed.\n"
     ]
    }
   ],
   "source": [
    "!python3 /private/groups/brookslab/rausharm/RBPSig/sra_accessions.py \\\n",
    "/private/groups/brookslab/rausharm/RBPSig/hnrnpa2b1/SraAccList.csv \\\n",
    "/private/groups/brookslab/scratch/rausharm/sra_acc.04.23.24_hnrnpa2b1/ --paired"
   ]
  },
  {
   "cell_type": "code",
   "execution_count": 13,
   "id": "fe746941",
   "metadata": {},
   "outputs": [
    {
     "name": "stdout",
     "output_type": "stream",
     "text": [
      "INFO:root:Decompressing file: /private/groups/brookslab/scratch/rausharm/sra_acc.04.23.24_hnrnpa2b1/fastq/SRR4421417_pass_1.fastq.gz\n",
      "INFO:root:Decompressing file: /private/groups/brookslab/scratch/rausharm/sra_acc.04.23.24_hnrnpa2b1/fastq/SRR4421417_pass_2.fastq.gz\n",
      "INFO:root:Running STAR alignment for SRR4421417 with command: /private/groups/brookslab/bin/STAR-2.7.10a/bin/Linux_x86_64/STAR --runThreadN 10 --genomeDir /private/groups/brookslab/reference_indices/star_hg38_rausharm --readFilesIn /private/groups/brookslab/scratch/rausharm/sra_acc.04.23.24_hnrnpa2b1/fastq/SRR4421417_pass_1.fastq /private/groups/brookslab/scratch/rausharm/sra_acc.04.23.24_hnrnpa2b1/fastq/SRR4421417_pass_2.fastq --outFileNamePrefix /private/groups/brookslab/rausharm/RBPSig/hnrnpa2b1/star_output_04.23.24/SRR4421417/SRR4421417_ --outSAMtype BAM SortedByCoordinate\n",
      "\t/private/groups/brookslab/bin/STAR-2.7.10a/bin/Linux_x86_64/STAR --runThreadN 10 --genomeDir /private/groups/brookslab/reference_indices/star_hg38_rausharm --readFilesIn /private/groups/brookslab/scratch/rausharm/sra_acc.04.23.24_hnrnpa2b1/fastq/SRR4421417_pass_1.fastq /private/groups/brookslab/scratch/rausharm/sra_acc.04.23.24_hnrnpa2b1/fastq/SRR4421417_pass_2.fastq --outFileNamePrefix /private/groups/brookslab/rausharm/RBPSig/hnrnpa2b1/star_output_04.23.24/SRR4421417/SRR4421417_ --outSAMtype BAM SortedByCoordinate\n",
      "\tSTAR version: 2.7.10a   compiled: 2022-01-14T18:50:00-05:00 :/home/dobin/data/STAR/STARcode/STAR.master/source\n",
      "Apr 24 13:49:08 ..... started STAR run\n",
      "Apr 24 13:49:09 ..... loading genome\n",
      "Apr 24 13:49:51 ..... started mapping\n",
      "Apr 24 14:02:27 ..... finished mapping\n",
      "Apr 24 14:02:33 ..... started sorting BAM\n",
      "Apr 24 14:04:06 ..... finished successfully\n",
      "INFO:root:BAM manifest updated with new entries.\n",
      "INFO:root:Alignment completed.\n"
     ]
    }
   ],
   "source": [
    "!python3 /private/groups/brookslab/rausharm/RBPSig/alignment.py --star-path \"/private/groups/brookslab/bin/STAR-2.7.10a/bin/Linux_x86_64/STAR\" \\\n",
    "--genomeDir \"/private/groups/brookslab/reference_indices/star_hg38_rausharm\" \\\n",
    "--readFilesIn \"/private/groups/brookslab/scratch/rausharm/sra_acc.04.23.24_hnrnpa2b1/fastq/SRR4421417_pass_1.fastq.gz\" \"/private/groups/brookslab/scratch/rausharm/sra_acc.04.23.24_hnrnpa2b1/fastq/SRR4421417_pass_2.fastq.gz\" \\\n",
    "--output-dir \"/private/groups/brookslab/rausharm/RBPSig/hnrnpa2b1/star_output_04.23.24/\" \\\n",
    "--metadata \"shRNA\" \\\n",
    "--condition \"Reference\" \\\n",
    "--paired"
   ]
  },
  {
   "cell_type": "code",
   "execution_count": 14,
   "id": "2ef1fb1f",
   "metadata": {},
   "outputs": [
    {
     "name": "stdout",
     "output_type": "stream",
     "text": [
      "INFO:root:Decompressing file: /private/groups/brookslab/scratch/rausharm/sra_acc.04.23.24_hnrnpa2b1/fastq/SRR4421418_pass_1.fastq.gz\n",
      "INFO:root:Decompressing file: /private/groups/brookslab/scratch/rausharm/sra_acc.04.23.24_hnrnpa2b1/fastq/SRR4421418_pass_2.fastq.gz\n",
      "INFO:root:Running STAR alignment for SRR4421418 with command: /private/groups/brookslab/bin/STAR-2.7.10a/bin/Linux_x86_64/STAR --runThreadN 10 --genomeDir /private/groups/brookslab/reference_indices/star_hg38_rausharm --readFilesIn /private/groups/brookslab/scratch/rausharm/sra_acc.04.23.24_hnrnpa2b1/fastq/SRR4421418_pass_1.fastq /private/groups/brookslab/scratch/rausharm/sra_acc.04.23.24_hnrnpa2b1/fastq/SRR4421418_pass_2.fastq --outFileNamePrefix /private/groups/brookslab/rausharm/RBPSig/hnrnpa2b1/star_output_04.23.24/SRR4421418/SRR4421418_ --outSAMtype BAM SortedByCoordinate\n",
      "\t/private/groups/brookslab/bin/STAR-2.7.10a/bin/Linux_x86_64/STAR --runThreadN 10 --genomeDir /private/groups/brookslab/reference_indices/star_hg38_rausharm --readFilesIn /private/groups/brookslab/scratch/rausharm/sra_acc.04.23.24_hnrnpa2b1/fastq/SRR4421418_pass_1.fastq /private/groups/brookslab/scratch/rausharm/sra_acc.04.23.24_hnrnpa2b1/fastq/SRR4421418_pass_2.fastq --outFileNamePrefix /private/groups/brookslab/rausharm/RBPSig/hnrnpa2b1/star_output_04.23.24/SRR4421418/SRR4421418_ --outSAMtype BAM SortedByCoordinate\n",
      "\tSTAR version: 2.7.10a   compiled: 2022-01-14T18:50:00-05:00 :/home/dobin/data/STAR/STARcode/STAR.master/source\n",
      "Apr 24 14:08:03 ..... started STAR run\n",
      "Apr 24 14:08:04 ..... loading genome\n",
      "Apr 24 14:08:31 ..... started mapping\n",
      "Apr 24 14:18:42 ..... finished mapping\n",
      "Apr 24 14:18:47 ..... started sorting BAM\n",
      "Apr 24 14:19:53 ..... finished successfully\n",
      "INFO:root:BAM manifest updated with new entries.\n",
      "INFO:root:Alignment completed.\n"
     ]
    }
   ],
   "source": [
    "!python3 /private/groups/brookslab/rausharm/RBPSig/alignment.py --star-path \"/private/groups/brookslab/bin/STAR-2.7.10a/bin/Linux_x86_64/STAR\" \\\n",
    "--genomeDir \"/private/groups/brookslab/reference_indices/star_hg38_rausharm\" \\\n",
    "--readFilesIn \"/private/groups/brookslab/scratch/rausharm/sra_acc.04.23.24_hnrnpa2b1/fastq/SRR4421418_pass_1.fastq.gz\" \"/private/groups/brookslab/scratch/rausharm/sra_acc.04.23.24_hnrnpa2b1/fastq/SRR4421418_pass_2.fastq.gz\" \\\n",
    "--output-dir \"/private/groups/brookslab/rausharm/RBPSig/hnrnpa2b1/star_output_04.23.24/\" \\\n",
    "--metadata \"shRNA\" \\\n",
    "--condition \"Reference\" \\\n",
    "--paired"
   ]
  },
  {
   "cell_type": "code",
   "execution_count": 8,
   "id": "a250e32b",
   "metadata": {},
   "outputs": [
    {
     "name": "stdout",
     "output_type": "stream",
     "text": [
      "INFO:root:Running STAR alignment for SRR4422332 with command: /private/groups/brookslab/bin/STAR-2.7.10a/bin/Linux_x86_64/STAR --runThreadN 10 --genomeDir /private/groups/brookslab/reference_indices/star_hg38_rausharm --readFilesIn /private/groups/brookslab/scratch/rausharm/sra_acc.04.23.24_hnrnpa2b1/fastq/SRR4422332_pass_1.fastq /private/groups/brookslab/scratch/rausharm/sra_acc.04.23.24_hnrnpa2b1/fastq/SRR4422332_pass_2.fastq --outFileNamePrefix /private/groups/brookslab/rausharm/RBPSig/hnrnpa2b1/star_output_04.23.24/SRR4422332/SRR4422332_ --outSAMtype BAM SortedByCoordinate\r\n",
      "\r\n",
      "EXITING because of fatal input ERROR: could not open readFilesIn=/private/groups/brookslab/scratch/rausharm/sra_acc.04.23.24_hnrnpa2b1/fastq/SRR4422332_pass_1.fastq\r\n",
      "\r\n",
      "Apr 23 22:03:46 ...... FATAL ERROR, exiting\r\n",
      "ERROR:root:STAR alignment for SRR4422332 failed: Command '['/private/groups/brookslab/bin/STAR-2.7.10a/bin/Linux_x86_64/STAR', '--runThreadN', '10', '--genomeDir', '/private/groups/brookslab/reference_indices/star_hg38_rausharm', '--readFilesIn', '/private/groups/brookslab/scratch/rausharm/sra_acc.04.23.24_hnrnpa2b1/fastq/SRR4422332_pass_1.fastq', '/private/groups/brookslab/scratch/rausharm/sra_acc.04.23.24_hnrnpa2b1/fastq/SRR4422332_pass_2.fastq', '--outFileNamePrefix', '/private/groups/brookslab/rausharm/RBPSig/hnrnpa2b1/star_output_04.23.24/SRR4422332/SRR4422332_', '--outSAMtype', 'BAM', 'SortedByCoordinate']' returned non-zero exit status 102.\r\n",
      "INFO:root:BAM manifest updated with new entries.\r\n",
      "INFO:root:Alignment completed.\r\n"
     ]
    }
   ],
   "source": [
    "!python3 /private/groups/brookslab/rausharm/RBPSig/alignment.py --star-path \"/private/groups/brookslab/bin/STAR-2.7.10a/bin/Linux_x86_64/STAR\" \\\n",
    "--genomeDir \"/private/groups/brookslab/reference_indices/star_hg38_rausharm\" \\\n",
    "--readFilesIn \"/private/groups/brookslab/scratch/rausharm/sra_acc.04.23.24_hnrnpa2b1/fastq/SRR4422332_pass_1.fastq.gz\" \"/private/groups/brookslab/scratch/rausharm/sra_acc.04.23.24_hnrnpa2b1/fastq/SRR4422332_pass_2.fastq.gz\" \\\n",
    "--output-dir \"/private/groups/brookslab/rausharm/RBPSig/hnrnpa2b1/star_output_04.23.24/\" \\\n",
    "--metadata \"hnrnpa2b1\" \\\n",
    "--condition \"sample\" \\\n",
    "--paired"
   ]
  },
  {
   "cell_type": "code",
   "execution_count": 9,
   "id": "7b2ade20",
   "metadata": {},
   "outputs": [
    {
     "name": "stdout",
     "output_type": "stream",
     "text": [
      "INFO:root:Running STAR alignment for SRR4422333 with command: /private/groups/brookslab/bin/STAR-2.7.10a/bin/Linux_x86_64/STAR --runThreadN 10 --genomeDir /private/groups/brookslab/reference_indices/star_hg38_rausharm --readFilesIn /private/groups/brookslab/scratch/rausharm/sra_acc.04.23.24_hnrnpa2b1/fastq/SRR4422333_pass_1.fastq /private/groups/brookslab/scratch/rausharm/sra_acc.04.23.24_hnrnpa2b1/fastq/SRR4422333_pass_2.fastq --outFileNamePrefix /private/groups/brookslab/rausharm/RBPSig/hnrnpa2b1/star_output_04.23.24/SRR4422333/SRR4422333_ --outSAMtype BAM SortedByCoordinate\r\n",
      "\r\n",
      "EXITING because of fatal input ERROR: could not open readFilesIn=/private/groups/brookslab/scratch/rausharm/sra_acc.04.23.24_hnrnpa2b1/fastq/SRR4422333_pass_1.fastq\r\n",
      "\r\n",
      "Apr 23 22:03:46 ...... FATAL ERROR, exiting\r\n",
      "ERROR:root:STAR alignment for SRR4422333 failed: Command '['/private/groups/brookslab/bin/STAR-2.7.10a/bin/Linux_x86_64/STAR', '--runThreadN', '10', '--genomeDir', '/private/groups/brookslab/reference_indices/star_hg38_rausharm', '--readFilesIn', '/private/groups/brookslab/scratch/rausharm/sra_acc.04.23.24_hnrnpa2b1/fastq/SRR4422333_pass_1.fastq', '/private/groups/brookslab/scratch/rausharm/sra_acc.04.23.24_hnrnpa2b1/fastq/SRR4422333_pass_2.fastq', '--outFileNamePrefix', '/private/groups/brookslab/rausharm/RBPSig/hnrnpa2b1/star_output_04.23.24/SRR4422333/SRR4422333_', '--outSAMtype', 'BAM', 'SortedByCoordinate']' returned non-zero exit status 102.\r\n",
      "INFO:root:BAM manifest updated with new entries.\r\n",
      "INFO:root:Alignment completed.\r\n"
     ]
    }
   ],
   "source": [
    "!python3 /private/groups/brookslab/rausharm/RBPSig/alignment.py --star-path \"/private/groups/brookslab/bin/STAR-2.7.10a/bin/Linux_x86_64/STAR\" \\\n",
    "--genomeDir \"/private/groups/brookslab/reference_indices/star_hg38_rausharm\" \\\n",
    "--readFilesIn \"/private/groups/brookslab/scratch/rausharm/sra_acc.04.23.24_hnrnpa2b1/fastq/SRR4422333_pass_1.fastq.gz\" \"/private/groups/brookslab/scratch/rausharm/sra_acc.04.23.24_hnrnpa2b1/fastq/SRR4422333_pass_2.fastq.gz\" \\\n",
    "--output-dir \"/private/groups/brookslab/rausharm/RBPSig/hnrnpa2b1/star_output_04.23.24/\" \\\n",
    "--metadata \"hnrnpa2b1\" \\\n",
    "--condition \"sample\" \\\n",
    "--paired"
   ]
  },
  {
   "cell_type": "code",
   "execution_count": 10,
   "id": "fcedaf3e",
   "metadata": {},
   "outputs": [
    {
     "name": "stdout",
     "output_type": "stream",
     "text": [
      "python3: can't open file '/private/groups/brookslab/rausharm/RBPSig/hnrnpa2b1/bam_qc_samtools.py': [Errno 2] No such file or directory\r\n"
     ]
    }
   ],
   "source": [
    "!python3 /private/groups/brookslab/rausharm/RBPSig/bam_qc_samtools.py \"/private/groups/brookslab/rausharm/RBPSig/hnrnpa2b1/star_output_04.23.24\"\n"
   ]
  },
  {
   "cell_type": "code",
   "execution_count": 11,
   "id": "e7399d7d",
   "metadata": {},
   "outputs": [
    {
     "name": "stdout",
     "output_type": "stream",
     "text": [
      "python3: can't open file '/private/groups/brookslab/rausharm/RBPSig/hnrnpa2b1/differential_splicing.py': [Errno 2] No such file or directory\r\n"
     ]
    }
   ],
   "source": [
    "!python3 /private/groups/brookslab/rausharm/RBPSig/differential_splicing.py \\\n",
    "--genome \"/private/groups/brookslab/reference_sequence/GRCh38.p13.genome.fa\" \\\n",
    "--manifest \"/private/groups/brookslab/rausharm/RBPSig/hnrnpa2b1/star_output_04.23.24/bam_manifest.txt\" \\\n",
    "--annotations \"/private/groups/brookslab/reference_annotations/gencode.v37.annotation.gtf\" \\\n",
    "--output-prefix \"/private/groups/brookslab/rausharm/RBPSig/hnrnpa2b1/04.23.24\""
   ]
  },
  {
   "cell_type": "code",
   "execution_count": 12,
   "id": "1358a0ac",
   "metadata": {},
   "outputs": [
    {
     "name": "stdout",
     "output_type": "stream",
     "text": [
      "python3: can't open file '/private/groups/brookslab/rausharm/RBPSig/hnrnpa2b1/filter_data.py': [Errno 2] No such file or directory\r\n"
     ]
    }
   ],
   "source": [
    "!python3 /private/groups/brookslab/rausharm/RBPSig/filter_data.py --output-prefix \"/private/groups/brookslab/rausharm/RBPSig/hnrnpa2b1/04.23.24\""
   ]
  },
  {
   "cell_type": "code",
   "execution_count": 25,
   "id": "61cdb360",
   "metadata": {},
   "outputs": [
    {
     "name": "stdout",
     "output_type": "stream",
     "text": [
      "\n",
      "Testing for differential splicing...\n",
      "Groups: Reference (2), Sample (2)\n",
      "Writing...\n"
     ]
    }
   ],
   "source": [
    "!python3 /private/groups/brookslab/rausharm/splicedice/code/signature.py compare \\\n",
    "-p /private/groups/brookslab/rausharm/RBPSig/03.11.24_allPS.tsv \\\n",
    "-m /private/groups/brookslab/rausharm/RBPSig/manifest.txt \\\n",
    "-o /private/groups/brookslab/rausharm/RBPSig/splicedice_compare"
   ]
  },
  {
   "cell_type": "code",
   "execution_count": 27,
   "id": "74c4e856",
   "metadata": {},
   "outputs": [
    {
     "name": "stdout",
     "output_type": "stream",
     "text": [
      "\r\n",
      "Reading...\r\n",
      "Fitting beta distributions...\r\n",
      "Traceback (most recent call last):\r\n",
      "  File \"/private/groups/brookslab/rausharm/splicedice/code/signature.py\", line 423, in <module>\r\n",
      "    main()\r\n",
      "  File \"/private/groups/brookslab/rausharm/splicedice/code/signature.py\", line 87, in main\r\n",
      "    beta_stats = manifest.fit_betas(ps_table,compare_stats)\r\n",
      "  File \"/private/groups/brookslab/rausharm/splicedice/code/signature.py\", line 326, in fit_betas\r\n",
      "    interval_set = self.significant_intervals(compare_stats)\r\n",
      "  File \"/private/groups/brookslab/rausharm/splicedice/code/signature.py\", line 301, in significant_intervals\r\n",
      "    for i in range(m):\r\n",
      "UnboundLocalError: local variable 'm' referenced before assignment\r\n"
     ]
    }
   ],
   "source": [
    "!python3 /private/groups/brookslab/rausharm/splicedice/code/signature.py fit_beta \\\n",
    "-s /private/groups/brookslab/rausharm/RBPSig/splicedice_compare.sig.tsv \\\n",
    "-p /private/groups/brookslab/rausharm/RBPSig/03.11.24_allPS.tsv \\\n",
    "-o test"
   ]
  },
  {
   "cell_type": "code",
   "execution_count": null,
   "id": "b381b494",
   "metadata": {},
   "outputs": [],
   "source": []
  }
 ],
 "metadata": {
  "kernelspec": {
   "display_name": "Python 3 (ipykernel)",
   "language": "python",
   "name": "python3"
  },
  "language_info": {
   "codemirror_mode": {
    "name": "ipython",
    "version": 3
   },
   "file_extension": ".py",
   "mimetype": "text/x-python",
   "name": "python",
   "nbconvert_exporter": "python",
   "pygments_lexer": "ipython3",
   "version": "3.9.7"
  }
 },
 "nbformat": 4,
 "nbformat_minor": 5
}
