{
 "cells": [
  {
   "cell_type": "code",
   "execution_count": 3,
   "id": "eaf27683",
   "metadata": {},
   "outputs": [
    {
     "name": "stdout",
     "output_type": "stream",
     "text": [
      "SRR12801019.29016231.1\t355\t0\t11809\t1\t101M\t0\t12024\t101\tCCTGCATGTAGTTTAAACGAGATTGCCAGCACCGGGTATCATTCACCATTTTTATTTTCGTTAACTTGCCGTCAGCCTTTTCTTTGACCTCTTCTTTCTGT\tarray('B', [37, 37, 37, 37, 37, 37, 37, 37, 37, 37, 37, 37, 37, 37, 37, 37, 37, 37, 37, 37, 37, 37, 37, 37, 37, 37, 37, 37, 37, 37, 37, 37, 37, 37, 37, 37, 37, 37, 37, 37, 37, 37, 37, 37, 37, 37, 37, 37, 37, 25, 37, 37, 37, 37, 37, 37, 37, 37, 37, 37, 37, 37, 37, 37, 37, 37, 37, 37, 25, 37, 37, 37, 37, 37, 37, 37, 37, 25, 37, 37, 37, 37, 37, 37, 37, 37, 37, 37, 37, 37, 37, 37, 25, 37, 25, 37, 37, 37, 37, 37, 37])\t[('NH', 3), ('HI', 2), ('AS', 198), ('nM', 1)]\n"
     ]
    },
    {
     "name": "stderr",
     "output_type": "stream",
     "text": [
      "[E::idx_find_and_load] Could not retrieve index file for '/private/groups/brookslab/rausharm/RBPSig/star_output/SRR12801019/Aligned.sortedByCoord.out.bam'\n"
     ]
    }
   ],
   "source": [
    "# Install pysam (uncomment the following line if pysam is not installed)\n",
    "# !pip install pysam\n",
    "\n",
    "# Import the pysam library\n",
    "import pysam\n",
    "\n",
    "# Open the BAM file\n",
    "bam_file_path = '/private/groups/brookslab/rausharm/RBPSig/star_output/SRR12801019/Aligned.sortedByCoord.out.bam'  # Replace with the path to your BAM file\n",
    "bam_file = pysam.AlignmentFile(bam_file_path, \"rb\")\n",
    "\n",
    "# Iterate over the first few reads and print them\n",
    "for read in bam_file.fetch(until_eof=True):  # Set a limit if you only want to see the first few reads\n",
    "    print(read)\n",
    "    break  # Remove or comment out this line if you want to see more reads\n",
    "\n",
    "# Close the BAM file\n",
    "bam_file.close()\n"
   ]
  },
  {
   "cell_type": "code",
   "execution_count": 3,
   "id": "91ae2cf2",
   "metadata": {},
   "outputs": [
    {
     "name": "stdout",
     "output_type": "stream",
     "text": [
      "Finding junctions from 4 BAM files...\n",
      "bam: /private/groups/brookslab/rausharm/RBPSig/star_output_03.11.24/SRR12801019/SRR12801019_Aligned.sortedByCoord.out.bam\n",
      "number of junctions found: 517327\n",
      "saved to bed: /private/groups/brookslab/rausharm/RBPSig/03.11.24_junction_beds/SRR12801019_Aligned.sortedByCoord.out.junc.bed\n",
      "bam: /private/groups/brookslab/rausharm/RBPSig/star_output_03.11.24/SRR12801020/SRR12801020_Aligned.sortedByCoord.out.bam\n",
      "number of junctions found: 576971\n",
      "saved to bed: /private/groups/brookslab/rausharm/RBPSig/03.11.24_junction_beds/SRR12801020_Aligned.sortedByCoord.out.junc.bed\n",
      "bam: /private/groups/brookslab/rausharm/RBPSig/star_output_03.11.24/SRR12801023/SRR12801023_Aligned.sortedByCoord.out.bam\n",
      "number of junctions found: 523173\n",
      "saved to bed: /private/groups/brookslab/rausharm/RBPSig/03.11.24_junction_beds/SRR12801023_Aligned.sortedByCoord.out.junc.bed\n",
      "bam: /private/groups/brookslab/rausharm/RBPSig/star_output_03.11.24/SRR12801024/SRR12801024_Aligned.sortedByCoord.out.bam\n",
      "number of junctions found: 576484\n",
      "saved to bed: /private/groups/brookslab/rausharm/RBPSig/03.11.24_junction_beds/SRR12801024_Aligned.sortedByCoord.out.junc.bed\n",
      "new manifest written to: /private/groups/brookslab/rausharm/RBPSig/03.11.24_manifest.txt\n"
     ]
    }
   ],
   "source": [
    "genome = \"/private/groups/brookslab/reference_sequence/GRCh38.p13.genome.fa\"\n",
    "manifest = \"/private/groups/brookslab/rausharm/RBPSig/star_output_03.11.24/bam_manifest.txt\"\n",
    "annotations = \"/private/groups/brookslab/reference_annotations/gencode.v37.annotation.gtf\"\n",
    "output_prefix = \"/private/groups/brookslab/rausharm/RBPSig/03.11.24\"\n",
    "!mesa bam_to_junc_bed -m {manifest} -a {annotations} -g {genome} -o {output_prefix} -n 10 "
   ]
  },
  {
   "cell_type": "code",
   "execution_count": null,
   "id": "8473b6b0",
   "metadata": {},
   "outputs": [],
   "source": []
  }
 ],
 "metadata": {
  "kernelspec": {
   "display_name": "Python 3 (ipykernel)",
   "language": "python",
   "name": "python3"
  },
  "language_info": {
   "codemirror_mode": {
    "name": "ipython",
    "version": 3
   },
   "file_extension": ".py",
   "mimetype": "text/x-python",
   "name": "python",
   "nbconvert_exporter": "python",
   "pygments_lexer": "ipython3",
   "version": "3.9.7"
  }
 },
 "nbformat": 4,
 "nbformat_minor": 5
}
