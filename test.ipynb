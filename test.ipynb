{
 "cells": [
  {
   "cell_type": "code",
   "execution_count": 3,
   "id": "eaf27683",
   "metadata": {},
   "outputs": [
    {
     "name": "stdout",
     "output_type": "stream",
     "text": [
      "SRR12801019.29016231.1\t355\t0\t11809\t1\t101M\t0\t12024\t101\tCCTGCATGTAGTTTAAACGAGATTGCCAGCACCGGGTATCATTCACCATTTTTATTTTCGTTAACTTGCCGTCAGCCTTTTCTTTGACCTCTTCTTTCTGT\tarray('B', [37, 37, 37, 37, 37, 37, 37, 37, 37, 37, 37, 37, 37, 37, 37, 37, 37, 37, 37, 37, 37, 37, 37, 37, 37, 37, 37, 37, 37, 37, 37, 37, 37, 37, 37, 37, 37, 37, 37, 37, 37, 37, 37, 37, 37, 37, 37, 37, 37, 25, 37, 37, 37, 37, 37, 37, 37, 37, 37, 37, 37, 37, 37, 37, 37, 37, 37, 37, 25, 37, 37, 37, 37, 37, 37, 37, 37, 25, 37, 37, 37, 37, 37, 37, 37, 37, 37, 37, 37, 37, 37, 37, 25, 37, 25, 37, 37, 37, 37, 37, 37])\t[('NH', 3), ('HI', 2), ('AS', 198), ('nM', 1)]\n"
     ]
    },
    {
     "name": "stderr",
     "output_type": "stream",
     "text": [
      "[E::idx_find_and_load] Could not retrieve index file for '/private/groups/brookslab/rausharm/RBPSig/star_output/SRR12801019/Aligned.sortedByCoord.out.bam'\n"
     ]
    }
   ],
   "source": [
    "# Install pysam (uncomment the following line if pysam is not installed)\n",
    "# !pip install pysam\n",
    "\n",
    "# Import the pysam library\n",
    "import pysam\n",
    "\n",
    "# Open the BAM file\n",
    "bam_file_path = '/private/groups/brookslab/rausharm/RBPSig/star_output/SRR12801019/Aligned.sortedByCoord.out.bam'  # Replace with the path to your BAM file\n",
    "bam_file = pysam.AlignmentFile(bam_file_path, \"rb\")\n",
    "\n",
    "# Iterate over the first few reads and print them\n",
    "for read in bam_file.fetch(until_eof=True):  # Set a limit if you only want to see the first few reads\n",
    "    print(read)\n",
    "    break  # Remove or comment out this line if you want to see more reads\n",
    "\n",
    "# Close the BAM file\n",
    "bam_file.close()\n"
   ]
  },
  {
   "cell_type": "code",
   "execution_count": null,
   "id": "4f3a2517",
   "metadata": {},
   "outputs": [],
   "source": []
  }
 ],
 "metadata": {
  "kernelspec": {
   "display_name": "Python 3 (ipykernel)",
   "language": "python",
   "name": "python3"
  },
  "language_info": {
   "codemirror_mode": {
    "name": "ipython",
    "version": 3
   },
   "file_extension": ".py",
   "mimetype": "text/x-python",
   "name": "python",
   "nbconvert_exporter": "python",
   "pygments_lexer": "ipython3",
   "version": "3.9.7"
  }
 },
 "nbformat": 4,
 "nbformat_minor": 5
}
