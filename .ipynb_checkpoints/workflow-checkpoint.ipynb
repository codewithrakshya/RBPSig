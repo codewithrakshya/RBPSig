{
 "cells": [
  {
   "cell_type": "code",
   "execution_count": 7,
   "id": "d919e989",
   "metadata": {},
   "outputs": [],
   "source": [
    "import subprocess\n",
    "from datetime import datetime"
   ]
  },
  {
   "cell_type": "code",
   "execution_count": 8,
   "id": "df332407",
   "metadata": {},
   "outputs": [],
   "source": [
    "today_date = datetime.now().strftime(\"%m.%d.%Y\")"
   ]
  },
  {
   "cell_type": "code",
   "execution_count": null,
   "id": "f7e5f834",
   "metadata": {},
   "outputs": [],
   "source": [
    "def run_sra_accessions(csv_path, output_path):\n",
    "    \"\"\"\n",
    "    This function runs the sra_accessions.py script that takes the list of accession ids \n",
    "    from the csv file and downloads them in the user define sra_output_path\n",
    "    \"\"\"\n",
    "    command = f\"python3 sra_accessions.py {csv_path} {output_path}\"\n",
    "    subprocess.run(command, shell=True, check=True)\n",
    "\n",
    "# Running sra_accessions.py\n",
    "#SraAccList.csv is the output file we get from SRA and we add path to the file.\n",
    "sra_csv_path = \"add_path_to_Sra_accession_list.csv\"\n",
    "sra_output_path = f\"Path/to/the/directory_{today_date}\"\n",
    "run_sra_accessions(sra_csv_path, sra_output_path)\n"
   ]
  },
  {
   "cell_type": "code",
   "execution_count": null,
   "id": "fcedaf3e",
   "metadata": {},
   "outputs": [],
   "source": [
    "def run_alignment(star_path, genomeDir, readFilesIn, output_dir):\n",
    "    \"\"\"\n",
    "    This method runs the alignment.py which aligns FASTQ reads to a reference genome using the STAR aligner.\n",
    "    \"\"\"\n",
    "    command = f\"python3 alignment.py --star-path {star_path} --genomeDir {genomeDir} --readFilesIn {' '.join(readFilesIn)} --output-dir {output_dir}\"\n",
    "    subprocess.run(command, shell=True, check=True)\n",
    "    \n",
    "output_dir = f\"Path/to/the/directory_{today_date}\"\n",
    "star_path = \"/private/groups/brookslab/bin/STAR-2.7.10a/bin/Linux_x86_64/STAR\"\n",
    "genomeDir = \"/private/groups/brookslab/reference_indices/star_hg38_rausharm\"\n",
    "readsFileIn = [\"/path/to/read1.fastq\", \"/path/to/read2.fastq\"]\n",
    "run_alignment(star_path, genomeDir, readsFileIn , output_dir)\n"
   ]
  },
  {
   "cell_type": "code",
   "execution_count": null,
   "id": "61ff62de",
   "metadata": {},
   "outputs": [],
   "source": [
    "def run_bam_qc_samtools(output_dir):\n",
    "    \"\"\"\n",
    "    This method runs bam_qc_samtools.py, which is designed to work through a directory structure, find all BAM files, \n",
    "    and then run both 'samtools flagstat' and 'samtools stats' on each found BAM file. The results of these QC checks \n",
    "    are saved into separate text files corresponding to each BAM file. So the output directory here is the directory where \n",
    "    the bam files are stored.\n",
    "    \"\"\"\n",
    "    command = f\"python3 bam_qc_samtools.py {output_dir}\"\n",
    "    subprocess.run(command, shell=True, check=True)\n",
    "    \n",
    "bam_dc_output_dir = f\"directory_{today_date}\"\n",
    "run_bam_qc_samtools(bam_qc_output_dir)\n"
   ]
  },
  {
   "cell_type": "code",
   "execution_count": null,
   "id": "fe746941",
   "metadata": {},
   "outputs": [],
   "source": []
  }
 ],
 "metadata": {
  "kernelspec": {
   "display_name": "Python 3 (ipykernel)",
   "language": "python",
   "name": "python3"
  },
  "language_info": {
   "codemirror_mode": {
    "name": "ipython",
    "version": 3
   },
   "file_extension": ".py",
   "mimetype": "text/x-python",
   "name": "python",
   "nbconvert_exporter": "python",
   "pygments_lexer": "ipython3",
   "version": "3.9.7"
  }
 },
 "nbformat": 4,
 "nbformat_minor": 5
}
